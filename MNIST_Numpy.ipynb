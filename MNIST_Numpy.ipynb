{
 "cells": [
  {
   "cell_type": "code",
   "execution_count": 101,
   "metadata": {
    "collapsed": true
   },
   "outputs": [],
   "source": [
    "import numpy as np\n",
    "import matplotlib.pyplot as plt\n",
    "import pickle as cPickle\n",
    "import pandas as pd\n",
    "import gzip"
   ]
  },
  {
   "cell_type": "code",
   "execution_count": 102,
   "metadata": {},
   "outputs": [],
   "source": [
    "# Load dataset\n",
    "data=gzip.open(\"/home/iyer/Downloads/mnist.pkl.gz\")\n",
    "train_data,validation_data,test_data=cPickle.load(data,encoding=\"latin1\")"
   ]
  },
  {
   "cell_type": "code",
   "execution_count": 103,
   "metadata": {
    "collapsed": true
   },
   "outputs": [],
   "source": [
    "def relu(Z):\n",
    "    res=(Z+np.abs(Z))/2\n",
    "    return res\n"
   ]
  },
  {
   "cell_type": "code",
   "execution_count": 104,
   "metadata": {
    "collapsed": true
   },
   "outputs": [],
   "source": [
    "def relu_backward(Z):\n",
    "    res=(Z+np.abs(Z))/(2*np.abs(Z))\n",
    "    return res\n"
   ]
  },
  {
   "cell_type": "code",
   "execution_count": 105,
   "metadata": {
    "collapsed": true
   },
   "outputs": [],
   "source": [
    "def softmax(Z):\n",
    "    res=np.exp(Z)\n",
    "    result=res/np.sum(res,axis=0,keepdims=True)\n",
    "    return result"
   ]
  },
  {
   "cell_type": "code",
   "execution_count": 106,
   "metadata": {
    "collapsed": true
   },
   "outputs": [],
   "source": [
    "def initialise_parameters(layer_dims):\n",
    "    parameters={}\n",
    "    L=len(layer_dims)-1\n",
    "    for l in range(1,L+1):\n",
    "        parameters[\"W\"+str(l)]=np.random.randn(layer_dims[l],layer_dims[l-1])*0.01\n",
    "        parameters[\"b\"+str(l)]=np.zeros((layer_dims[l],1))\n",
    "    return parameters\n"
   ]
  },
  {
   "cell_type": "code",
   "execution_count": 169,
   "metadata": {
    "collapsed": true
   },
   "outputs": [],
   "source": [
    "def forward_propagation(X,parameters):\n",
    "    cache={}\n",
    "    L=len(layer_dims)-1\n",
    "    A_prev=X\n",
    "    for l in range(1,L):\n",
    "        Z=parameters[\"W\"+str(l)].dot(A_prev)+parameters[\"b\"+str(l)]\n",
    "        A=relu(Z)\n",
    "        cache[\"Z\"+str(l)]=Z\n",
    "        A_prev=A\n",
    "    Z = parameters[\"W\" + str(L)].dot(A_prev) + parameters[\"b\" + str(L)]\n",
    "    AL=softmax(Z)\n",
    "    cache[\"Z\"+str(L)]=Z\n",
    "    return AL,cache\n",
    "    "
   ]
  },
  {
   "cell_type": "code",
   "execution_count": 170,
   "metadata": {
    "collapsed": true
   },
   "outputs": [],
   "source": [
    "def compute_cost(Y,AL):\n",
    "    m=AL.shape[1]\n",
    "    cost=(np.sum(-(Y*np.log(AL))))/m\n",
    "    return cost"
   ]
  },
  {
   "cell_type": "code",
   "execution_count": 171,
   "metadata": {
    "collapsed": true
   },
   "outputs": [],
   "source": [
    "\n",
    "def backward_propagation(X,Y,cache,AL,parameters,layer_dims):\n",
    "    m = X.shape[1]\n",
    "    dparameters = {}\n",
    "    L = len(layer_dims) - 1\n",
    "    dZ = AL - Y\n",
    "    dparameters[\"dW\" + str(L)] = dZ.dot(relu(cache[\"Z\" + str(L-1)]).transpose())/m\n",
    "    dparameters[\"db\" + str(L)] = np.sum(dZ,axis = 1,keepdims = True)/m\n",
    "    for l in range(1,L):\n",
    "        dZ = ((parameters[\"W\" + str(L-l+1)].transpose()).dot(dZ)) * (relu_backward(cache[\"Z\" + str(L-l)]))\n",
    "        if L-l-1 != 0:\n",
    "            dparameters[\"dW\" + str(L-l)] = dZ.dot(relu(cache[\"Z\" + str(L-1-l)]).transpose())/m\n",
    "        else:\n",
    "            dparameters[\"dW\" + str(L-l)] = dZ.dot(X.transpose())/m\n",
    "        dparameters[\"db\" + str(L-l)] = np.sum(dZ,axis = 1,keepdims = True)/m\n",
    "    return dparameters  \n",
    "\n",
    "\n",
    "    "
   ]
  },
  {
   "cell_type": "code",
   "execution_count": 188,
   "metadata": {
    "collapsed": true
   },
   "outputs": [],
   "source": [
    "def update_parameters(parameters,dparameters,layer_dims,learning_rate):\n",
    "    L=len(layer_dims)-1\n",
    "    for l in range(1,L+1):\n",
    "        parameters[\"W\"+str(l)]=parameters[\"W\"+str(l)]-learning_rate*dparameters[\"dW\"+str(l)]\n",
    "        parameters[\"b\"+str(l)]=parameters[\"b\"+str(l)]-learning_rate*dparameters[\"db\"+str(l)]\n",
    "    return parameters"
   ]
  },
  {
   "cell_type": "code",
   "execution_count": 196,
   "metadata": {
    "collapsed": true
   },
   "outputs": [],
   "source": [
    "def accuracy(AL,YNum):\n",
    "    a=np.argmax(AL,axis=0)\n",
    "    a=a.reshape(1,YNum.shape[1])\n",
    "    cnt=0\n",
    "    for i in range(YNum.shape[1]):\n",
    "        if a[0,i]==YNum[0,i]:\n",
    "            cnt=cnt+1\n",
    "    return (cnt/YNum.shape[1])"
   ]
  },
  {
   "cell_type": "code",
   "execution_count": 197,
   "metadata": {
    "collapsed": true
   },
   "outputs": [],
   "source": [
    "def learn(X,X_test,Y,Y_test,YNum,YNum_test,layer_dims,learning_rate,num_episodes):\n",
    "    costs=[]\n",
    "    costs_test=[]\n",
    "    accs=[]\n",
    "    accs_test=[]\n",
    "    parameters=initialise_parameters(layer_dims)\n",
    "    for i in range(num_episodes):\n",
    "        AL,cache=forward_propagation(X,parameters)\n",
    "        AL_test,cache_test=forward_propagation(X_test,parameters)\n",
    "        dparameters=backward_propagation(X,Y,cache,AL,parameters,layer_dims)\n",
    "        parameters=update_parameters(parameters,dparameters,layer_dims,learning_rate)\n",
    "        cost=compute_cost(Y,AL)\n",
    "        cost_test=compute_cost(Y_test,AL_test)\n",
    "        costs.append(cost)\n",
    "        costs_test.append(cost_test)\n",
    "        accs.append(100*accuracy(AL,YNum))\n",
    "        accs_test.append(100*accuracy(AL_test,YNum_test))\n",
    "        if i%10==0:\n",
    "            print(\"Iterations : \", i)\n",
    "            print(\"Tr_Acc : \", accs[i], \"Test_Acc : \", accs_test[i])\n",
    "            print(\"Tr_Cost : \", costs[i], \"Test_Cost : \", costs_test[i])\n",
    "    return parameters, costs, accs, costs_test, accs_test\n",
    "    "
   ]
  },
  {
   "cell_type": "code",
   "execution_count": 198,
   "metadata": {},
   "outputs": [
    {
     "name": "stdout",
     "output_type": "stream",
     "text": [
      "X Shape:= (784, 50000)\n"
     ]
    }
   ],
   "source": [
    "X=train_data[0]\n",
    "X=X.T\n",
    "print(\"X Shape:=\",X.shape)\n",
    "   "
   ]
  },
  {
   "cell_type": "code",
   "execution_count": 199,
   "metadata": {},
   "outputs": [
    {
     "name": "stdout",
     "output_type": "stream",
     "text": [
      "(50000,)\n",
      "(1, 50000)\n"
     ]
    }
   ],
   "source": [
    "n_X=X.shape[0]\n",
    "m=X.shape[1]\n",
    "YNum=train_data[1]\n",
    "print(YNum.shape)\n",
    "YNum=YNum.reshape(1,YNum.shape[0])\n",
    "print(YNum.shape)"
   ]
  },
  {
   "cell_type": "code",
   "execution_count": 200,
   "metadata": {},
   "outputs": [
    {
     "name": "stdout",
     "output_type": "stream",
     "text": [
      "(784, 10000)\n",
      "(10000,)\n",
      "(1, 10000)\n"
     ]
    }
   ],
   "source": [
    "X_test=test_data[0]\n",
    "X_test=X_test.T\n",
    "print(X_test.shape)\n",
    "m_test = X_test.shape[1]\n",
    "YNum_test=test_data[1]\n",
    "print(YNum_test.shape)\n",
    "YNum_test=YNum_test.reshape((1,YNum_test.shape[0]))\n",
    "print(YNum_test.shape)"
   ]
  },
  {
   "cell_type": "code",
   "execution_count": 201,
   "metadata": {},
   "outputs": [],
   "source": [
    "Y = np.zeros((10,m))\n",
    "for i in range(m):\n",
    "    Y[int(YNum[0,i]),i]=1\n",
    "    \n",
    "Y_test=np.zeros((10,m_test))\n",
    "for i in range(m_test):\n",
    "    Y_test[int(YNum_test[0,i]),i]=1\n",
    "\n",
    "    \n"
   ]
  },
  {
   "cell_type": "code",
   "execution_count": 202,
   "metadata": {},
   "outputs": [
    {
     "name": "stdout",
     "output_type": "stream",
     "text": [
      "Iterations :  0\n",
      "Tr_Acc :  10.202 Test_Acc :  10.37\n",
      "Tr_Cost :  2.30129832464 Test_Cost :  2.30134682902\n",
      "Iterations :  10\n",
      "Tr_Acc :  50.864 Test_Acc :  51.05\n",
      "Tr_Cost :  2.16624768504 Test_Cost :  2.16322526227\n",
      "Iterations :  20\n",
      "Tr_Acc :  71.426 Test_Acc :  72.5\n",
      "Tr_Cost :  1.36565939014 Test_Cost :  1.34678632989\n",
      "Iterations :  30\n",
      "Tr_Acc :  80.538 Test_Acc :  81.11\n",
      "Tr_Cost :  0.812393270529 Test_Cost :  0.789043087228\n",
      "Iterations :  40\n",
      "Tr_Acc :  84.47200000000001 Test_Acc :  85.22\n",
      "Tr_Cost :  0.614442052185 Test_Cost :  0.589923723823\n",
      "Iterations :  50\n",
      "Tr_Acc :  83.39 Test_Acc :  83.84\n",
      "Tr_Cost :  0.579139759852 Test_Cost :  0.554710081496\n",
      "Iterations :  60\n",
      "Tr_Acc :  85.72 Test_Acc :  86.3\n",
      "Tr_Cost :  0.489763622006 Test_Cost :  0.467596515419\n",
      "Iterations :  70\n",
      "Tr_Acc :  86.134 Test_Acc :  86.53999999999999\n",
      "Tr_Cost :  0.461490464103 Test_Cost :  0.44258076532\n",
      "Iterations :  80\n",
      "Tr_Acc :  87.78200000000001 Test_Acc :  88.2\n",
      "Tr_Cost :  0.42427935505 Test_Cost :  0.405601027525\n",
      "Iterations :  90\n",
      "Tr_Acc :  88.926 Test_Acc :  89.23\n",
      "Tr_Cost :  0.391153781642 Test_Cost :  0.372105409992\n",
      "Iterations :  100\n",
      "Tr_Acc :  89.63 Test_Acc :  90.06\n",
      "Tr_Cost :  0.369302696448 Test_Cost :  0.350312084364\n",
      "Iterations :  110\n",
      "Tr_Acc :  90.01400000000001 Test_Acc :  90.39\n",
      "Tr_Cost :  0.355229830072 Test_Cost :  0.336735288325\n",
      "Iterations :  120\n",
      "Tr_Acc :  90.27199999999999 Test_Acc :  90.72\n",
      "Tr_Cost :  0.344191039469 Test_Cost :  0.326340011339\n",
      "Iterations :  130\n",
      "Tr_Acc :  90.512 Test_Acc :  90.92\n",
      "Tr_Cost :  0.33481539187 Test_Cost :  0.317657850999\n",
      "Iterations :  140\n",
      "Tr_Acc :  90.696 Test_Acc :  91.22\n",
      "Tr_Cost :  0.326502522164 Test_Cost :  0.310099278662\n",
      "Iterations :  150\n",
      "Tr_Acc :  90.908 Test_Acc :  91.51\n",
      "Tr_Cost :  0.318994456971 Test_Cost :  0.303338583418\n",
      "Iterations :  160\n",
      "Tr_Acc :  91.07 Test_Acc :  91.60000000000001\n",
      "Tr_Cost :  0.312101608387 Test_Cost :  0.297181786168\n",
      "Iterations :  170\n",
      "Tr_Acc :  91.258 Test_Acc :  91.82000000000001\n",
      "Tr_Cost :  0.305667912736 Test_Cost :  0.291512051332\n",
      "Iterations :  180\n",
      "Tr_Acc :  91.45 Test_Acc :  91.94\n",
      "Tr_Cost :  0.29961440526 Test_Cost :  0.286224681916\n",
      "Iterations :  190\n",
      "Tr_Acc :  91.598 Test_Acc :  91.97999999999999\n",
      "Tr_Cost :  0.293895946564 Test_Cost :  0.281256501598\n",
      "Iterations :  200\n",
      "Tr_Acc :  91.744 Test_Acc :  92.11\n",
      "Tr_Cost :  0.288469289459 Test_Cost :  0.276523295684\n",
      "Iterations :  210\n",
      "Tr_Acc :  91.89399999999999 Test_Acc :  92.2\n",
      "Tr_Cost :  0.28332989482 Test_Cost :  0.27202139524\n",
      "Iterations :  220\n",
      "Tr_Acc :  92.044 Test_Acc :  92.36999999999999\n",
      "Tr_Cost :  0.27843027765 Test_Cost :  0.267739620728\n",
      "Iterations :  230\n",
      "Tr_Acc :  92.204 Test_Acc :  92.52\n",
      "Tr_Cost :  0.273746672009 Test_Cost :  0.263633197717\n",
      "Iterations :  240\n",
      "Tr_Acc :  92.34400000000001 Test_Acc :  92.67999999999999\n",
      "Tr_Cost :  0.269252143518 Test_Cost :  0.259698734018\n",
      "Iterations :  250\n",
      "Tr_Acc :  92.472 Test_Acc :  92.86\n",
      "Tr_Cost :  0.264933568912 Test_Cost :  0.255921369986\n",
      "Iterations :  260\n",
      "Tr_Acc :  92.566 Test_Acc :  92.92\n",
      "Tr_Cost :  0.260795640088 Test_Cost :  0.252284841313\n",
      "Iterations :  270\n",
      "Tr_Acc :  92.684 Test_Acc :  93.01\n",
      "Tr_Cost :  0.256804611891 Test_Cost :  0.24878230715\n",
      "Iterations :  280\n",
      "Tr_Acc :  92.804 Test_Acc :  93.10000000000001\n",
      "Tr_Cost :  0.252958643237 Test_Cost :  0.245411350648\n",
      "Iterations :  290\n",
      "Tr_Acc :  92.92399999999999 Test_Acc :  93.17\n",
      "Tr_Cost :  0.249249518475 Test_Cost :  0.242147636615\n",
      "Iterations :  300\n",
      "Tr_Acc :  93.01 Test_Acc :  93.25\n",
      "Tr_Cost :  0.245660551121 Test_Cost :  0.238989996366\n",
      "Iterations :  310\n",
      "Tr_Acc :  93.10199999999999 Test_Acc :  93.34\n",
      "Tr_Cost :  0.242187963604 Test_Cost :  0.235942795614\n",
      "Iterations :  320\n",
      "Tr_Acc :  93.202 Test_Acc :  93.44\n",
      "Tr_Cost :  0.238826707693 Test_Cost :  0.232988432306\n",
      "Iterations :  330\n",
      "Tr_Acc :  93.32000000000001 Test_Acc :  93.53\n",
      "Tr_Cost :  0.235567135213 Test_Cost :  0.23013506929\n",
      "Iterations :  340\n",
      "Tr_Acc :  93.444 Test_Acc :  93.57\n",
      "Tr_Cost :  0.23240735619 Test_Cost :  0.227356324963\n",
      "Iterations :  350\n",
      "Tr_Acc :  93.522 Test_Acc :  93.65\n",
      "Tr_Cost :  0.229335202697 Test_Cost :  0.224638504666\n",
      "Iterations :  360\n",
      "Tr_Acc :  93.64 Test_Acc :  93.77\n",
      "Tr_Cost :  0.22634215619 Test_Cost :  0.221976271559\n",
      "Iterations :  370\n",
      "Tr_Acc :  93.726 Test_Acc :  93.88\n",
      "Tr_Cost :  0.223436197742 Test_Cost :  0.21940122637\n",
      "Iterations :  380\n",
      "Tr_Acc :  93.806 Test_Acc :  93.92\n",
      "Tr_Cost :  0.220603446409 Test_Cost :  0.216894854785\n",
      "Iterations :  390\n",
      "Tr_Acc :  93.89 Test_Acc :  94.01\n",
      "Tr_Cost :  0.217833137614 Test_Cost :  0.214445844958\n",
      "Iterations :  400\n",
      "Tr_Acc :  93.95599999999999 Test_Acc :  94.03\n",
      "Tr_Cost :  0.215127785456 Test_Cost :  0.212061108594\n",
      "Iterations :  410\n",
      "Tr_Acc :  94.04400000000001 Test_Acc :  94.07\n",
      "Tr_Cost :  0.212486986436 Test_Cost :  0.209726086165\n",
      "Iterations :  420\n",
      "Tr_Acc :  94.1 Test_Acc :  94.12\n",
      "Tr_Cost :  0.209911721322 Test_Cost :  0.20745123787\n",
      "Iterations :  430\n",
      "Tr_Acc :  94.17999999999999 Test_Acc :  94.14\n",
      "Tr_Cost :  0.207388641105 Test_Cost :  0.20523566991\n",
      "Iterations :  440\n",
      "Tr_Acc :  94.236 Test_Acc :  94.19\n",
      "Tr_Cost :  0.204912339314 Test_Cost :  0.20305768784\n",
      "Iterations :  450\n",
      "Tr_Acc :  94.28800000000001 Test_Acc :  94.23\n",
      "Tr_Cost :  0.20247692056 Test_Cost :  0.200933827697\n",
      "Iterations :  460\n",
      "Tr_Acc :  94.368 Test_Acc :  94.31\n",
      "Tr_Cost :  0.200077575532 Test_Cost :  0.198848198581\n",
      "Iterations :  470\n",
      "Tr_Acc :  94.428 Test_Acc :  94.34\n",
      "Tr_Cost :  0.197728488086 Test_Cost :  0.196814029432\n",
      "Iterations :  480\n",
      "Tr_Acc :  94.498 Test_Acc :  94.44\n",
      "Tr_Cost :  0.195421818027 Test_Cost :  0.194824025289\n",
      "Iterations :  490\n",
      "Tr_Acc :  94.554 Test_Acc :  94.46\n",
      "Tr_Cost :  0.193157940027 Test_Cost :  0.192857352582\n",
      "Iterations :  500\n",
      "Tr_Acc :  94.622 Test_Acc :  94.54\n",
      "Tr_Cost :  0.190942221802 Test_Cost :  0.190936777458\n",
      "Iterations :  510\n",
      "Tr_Acc :  94.694 Test_Acc :  94.56\n",
      "Tr_Cost :  0.188771914034 Test_Cost :  0.189059169461\n",
      "Iterations :  520\n",
      "Tr_Acc :  94.756 Test_Acc :  94.61\n",
      "Tr_Cost :  0.186648708719 Test_Cost :  0.187219262962\n",
      "Iterations :  530\n",
      "Tr_Acc :  94.80199999999999 Test_Acc :  94.67999999999999\n",
      "Tr_Cost :  0.184566625587 Test_Cost :  0.185422232948\n",
      "Iterations :  540\n",
      "Tr_Acc :  94.86 Test_Acc :  94.72\n",
      "Tr_Cost :  0.182524155977 Test_Cost :  0.183662273218\n",
      "Iterations :  550\n",
      "Tr_Acc :  94.922 Test_Acc :  94.8\n",
      "Tr_Cost :  0.180524197957 Test_Cost :  0.181946526499\n",
      "Iterations :  560\n",
      "Tr_Acc :  94.972 Test_Acc :  94.85\n",
      "Tr_Cost :  0.178559804514 Test_Cost :  0.180260423642\n",
      "Iterations :  570\n",
      "Tr_Acc :  95.042 Test_Acc :  94.93\n",
      "Tr_Cost :  0.176623305754 Test_Cost :  0.178597009489\n",
      "Iterations :  580\n",
      "Tr_Acc :  95.104 Test_Acc :  94.96\n",
      "Tr_Cost :  0.174716375107 Test_Cost :  0.176965660564\n",
      "Iterations :  590\n",
      "Tr_Acc :  95.158 Test_Acc :  95.02000000000001\n",
      "Tr_Cost :  0.172842403414 Test_Cost :  0.175359214389\n",
      "Iterations :  600\n",
      "Tr_Acc :  95.21 Test_Acc :  95.04\n",
      "Tr_Cost :  0.171000024472 Test_Cost :  0.173788651969\n",
      "Iterations :  610\n",
      "Tr_Acc :  95.26 Test_Acc :  95.1\n",
      "Tr_Cost :  0.169185583727 Test_Cost :  0.172245233811\n",
      "Iterations :  620\n",
      "Tr_Acc :  95.284 Test_Acc :  95.15\n",
      "Tr_Cost :  0.167401274885 Test_Cost :  0.170728999023\n",
      "Iterations :  630\n",
      "Tr_Acc :  95.328 Test_Acc :  95.17\n",
      "Tr_Cost :  0.1656483098 Test_Cost :  0.169227685892\n",
      "Iterations :  640\n",
      "Tr_Acc :  95.37400000000001 Test_Acc :  95.17999999999999\n",
      "Tr_Cost :  0.163923068915 Test_Cost :  0.167751434559\n",
      "Iterations :  650\n",
      "Tr_Acc :  95.434 Test_Acc :  95.23\n",
      "Tr_Cost :  0.162227380932 Test_Cost :  0.16629342131\n",
      "Iterations :  660\n",
      "Tr_Acc :  95.49 Test_Acc :  95.26\n",
      "Tr_Cost :  0.160555407563 Test_Cost :  0.164849641973\n",
      "Iterations :  670\n",
      "Tr_Acc :  95.518 Test_Acc :  95.34\n",
      "Tr_Cost :  0.158908153225 Test_Cost :  0.163440317967\n",
      "Iterations :  680\n",
      "Tr_Acc :  95.55799999999999 Test_Acc :  95.39999999999999\n",
      "Tr_Cost :  0.157288255975 Test_Cost :  0.162053451793\n",
      "Iterations :  690\n",
      "Tr_Acc :  95.598 Test_Acc :  95.43\n",
      "Tr_Cost :  0.155694933843 Test_Cost :  0.160699569515\n",
      "Iterations :  700\n",
      "Tr_Acc :  95.64200000000001 Test_Acc :  95.5\n",
      "Tr_Cost :  0.154128864514 Test_Cost :  0.159373673058\n",
      "Iterations :  710\n",
      "Tr_Acc :  95.694 Test_Acc :  95.50999999999999\n",
      "Tr_Cost :  0.152588761762 Test_Cost :  0.158073142338\n",
      "Iterations :  720\n",
      "Tr_Acc :  95.738 Test_Acc :  95.50999999999999\n",
      "Tr_Cost :  0.151075198981 Test_Cost :  0.156789734604\n",
      "Iterations :  730\n",
      "Tr_Acc :  95.782 Test_Acc :  95.53\n",
      "Tr_Cost :  0.149584127699 Test_Cost :  0.155523708355\n"
     ]
    },
    {
     "name": "stdout",
     "output_type": "stream",
     "text": [
      "Iterations :  740\n",
      "Tr_Acc :  95.824 Test_Acc :  95.53\n",
      "Tr_Cost :  0.148112070019 Test_Cost :  0.154280500102\n",
      "Iterations :  750\n",
      "Tr_Acc :  95.864 Test_Acc :  95.58\n",
      "Tr_Cost :  0.146664164801 Test_Cost :  0.153069074633\n",
      "Iterations :  760\n",
      "Tr_Acc :  95.894 Test_Acc :  95.6\n",
      "Tr_Cost :  0.145233775133 Test_Cost :  0.151869095105\n",
      "Iterations :  770\n",
      "Tr_Acc :  95.944 Test_Acc :  95.62\n",
      "Tr_Cost :  0.143827073184 Test_Cost :  0.150683839891\n",
      "Iterations :  780\n",
      "Tr_Acc :  95.98 Test_Acc :  95.63000000000001\n",
      "Tr_Cost :  0.142445565448 Test_Cost :  0.149524145765\n",
      "Iterations :  790\n",
      "Tr_Acc :  96.028 Test_Acc :  95.65\n",
      "Tr_Cost :  0.141087036839 Test_Cost :  0.148388136748\n",
      "Iterations :  800\n",
      "Tr_Acc :  96.05799999999999 Test_Acc :  95.7\n",
      "Tr_Cost :  0.139751270511 Test_Cost :  0.147274961808\n",
      "Iterations :  810\n",
      "Tr_Acc :  96.09 Test_Acc :  95.72\n",
      "Tr_Cost :  0.138434870588 Test_Cost :  0.14618303717\n",
      "Iterations :  820\n",
      "Tr_Acc :  96.136 Test_Acc :  95.76\n",
      "Tr_Cost :  0.137142792728 Test_Cost :  0.145108502301\n",
      "Iterations :  830\n",
      "Tr_Acc :  96.172 Test_Acc :  95.78\n",
      "Tr_Cost :  0.13587398315 Test_Cost :  0.144046364831\n",
      "Iterations :  840\n",
      "Tr_Acc :  96.21 Test_Acc :  95.78999999999999\n",
      "Tr_Cost :  0.134623907736 Test_Cost :  0.143003814816\n",
      "Iterations :  850\n",
      "Tr_Acc :  96.26 Test_Acc :  95.81\n",
      "Tr_Cost :  0.133396321168 Test_Cost :  0.141979448059\n",
      "Iterations :  860\n",
      "Tr_Acc :  96.308 Test_Acc :  95.84\n",
      "Tr_Cost :  0.132191179338 Test_Cost :  0.140970463958\n",
      "Iterations :  870\n",
      "Tr_Acc :  96.34 Test_Acc :  95.88\n",
      "Tr_Cost :  0.131004220332 Test_Cost :  0.139987001203\n",
      "Iterations :  880\n",
      "Tr_Acc :  96.378 Test_Acc :  95.91\n",
      "Tr_Cost :  0.129836563058 Test_Cost :  0.139024760387\n",
      "Iterations :  890\n",
      "Tr_Acc :  96.398 Test_Acc :  95.93\n",
      "Tr_Cost :  0.128685761098 Test_Cost :  0.13807599261\n",
      "Iterations :  900\n",
      "Tr_Acc :  96.446 Test_Acc :  95.95\n",
      "Tr_Cost :  0.127550699996 Test_Cost :  0.137153222425\n",
      "Iterations :  910\n",
      "Tr_Acc :  96.468 Test_Acc :  96.0\n",
      "Tr_Cost :  0.126431493718 Test_Cost :  0.136246149037\n",
      "Iterations :  920\n",
      "Tr_Acc :  96.5 Test_Acc :  96.04\n",
      "Tr_Cost :  0.125328275104 Test_Cost :  0.135355336698\n",
      "Iterations :  930\n",
      "Tr_Acc :  96.532 Test_Acc :  96.06\n",
      "Tr_Cost :  0.124241070467 Test_Cost :  0.134482794787\n",
      "Iterations :  940\n",
      "Tr_Acc :  96.576 Test_Acc :  96.07\n",
      "Tr_Cost :  0.123170505609 Test_Cost :  0.13362254061\n",
      "Iterations :  950\n",
      "Tr_Acc :  96.60600000000001 Test_Acc :  96.12\n",
      "Tr_Cost :  0.122113499299 Test_Cost :  0.132783631016\n",
      "Iterations :  960\n",
      "Tr_Acc :  96.634 Test_Acc :  96.13000000000001\n",
      "Tr_Cost :  0.12107292378 Test_Cost :  0.131952687745\n",
      "Iterations :  970\n",
      "Tr_Acc :  96.672 Test_Acc :  96.16\n",
      "Tr_Cost :  0.120048784823 Test_Cost :  0.131135525997\n",
      "Iterations :  980\n",
      "Tr_Acc :  96.702 Test_Acc :  96.19\n",
      "Tr_Cost :  0.119040991048 Test_Cost :  0.130333790529\n",
      "Iterations :  990\n",
      "Tr_Acc :  96.73 Test_Acc :  96.21\n",
      "Tr_Cost :  0.118049181295 Test_Cost :  0.129544845198\n"
     ]
    }
   ],
   "source": [
    "layer_dims = [784,120,10]\n",
    "parameters, costs, accs, costs_test, accs_test = learn(X, X_test, Y, Y_test, YNum, YNum_test, layer_dims, 0.4, 1000)"
   ]
  },
  {
   "cell_type": "code",
   "execution_count": 230,
   "metadata": {},
   "outputs": [],
   "source": [
    "\"\"\"fig=plt.figure()\n",
    "fig.suptitle('Learning curve')\n",
    "plt.xlabel(\"Number of Iterations\")\n",
    "for i in range(len(accs)):\n",
    "    accs[i]=float(accs[i]/100)\n",
    "    accs_test[i]=float(accs_test[i]/100)\n",
    "plt.plot(costs,label='Training Cost')\n",
    "plt.plot(accs,label='Training Accuracy')\n",
    "plt.plot(costs_test,label='Test Cost')\n",
    "plt.plot(accs_test,label='Test Accuracy')\n",
    "plt.legend()\n",
    "plt.savefig('Learningcurve.png')\n",
    "\"\"\"\n"
   ]
  },
  {
   "cell_type": "code",
   "execution_count": 240,
   "metadata": {},
   "outputs": [
    {
     "data": {
      "image/png": "[encoded data removed]",
      "text/plain": [
       "<matplotlib.figure.Figure at 0x7fbd9689d8d0>"
      ]
     },
     "metadata": {},
     "output_type": "display_data"
    },
    {
     "name": "stdout",
     "output_type": "stream",
     "text": [
      "The number is :- 5\n"
     ]
    }
   ],
   "source": [
    "index=45\n",
    "x=X_test[:,index].reshape(784,1)\n",
    "img=x.reshape(28,28)\n",
    "plt.imshow(img)\n",
    "plt.show()\n",
    "A,Z=forward_propagation(x,parameters)\n",
    "print(\"The number is :-\",np.argmax(A))"
   ]
  },
  {
   "cell_type": "code",
   "execution_count": null,
   "metadata": {
    "collapsed": true
   },
   "outputs": [],
   "source": []
  }
 ],
 "metadata": {
  "kernelspec": {
   "display_name": "Python 3",
   "language": "python",
   "name": "python3"
  },
  "language_info": {
   "codemirror_mode": {
    "name": "ipython",
    "version": 3
   },
   "file_extension": ".py",
   "mimetype": "text/x-python",
   "name": "python",
   "nbconvert_exporter": "python",
   "pygments_lexer": "ipython3",
   "version": "3.6.6"
  }
 },
 "nbformat": 4,
 "nbformat_minor": 2
}
